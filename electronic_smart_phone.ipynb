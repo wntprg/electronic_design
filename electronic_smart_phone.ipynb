{
 "cells": [
  {
   "cell_type": "code",
   "execution_count": null,
   "metadata": {},
   "outputs": [],
   "source": [
    "'''\n",
    "2022_09_05\n",
    "    \n",
    "\n",
    "' 우리는 2조 '\n",
    "    \n",
    "    1. 목요일까지 해야될 것\n",
    "        - 제품 정하기\n",
    "            - minimun 3\n",
    "            - maximum 7\n",
    "        - 사야되는 거 가격 알아보기\n",
    "        - 제품을 어떻게 구할지\n",
    "        - 회의 시간 정하기\n",
    "        - pdf_making\n",
    "\n",
    "\n",
    "    2. 장기적 목표\n",
    "        - 기획 하기\n",
    "        - 언제 어디까지 진행할지\n",
    "        - 각자 역할 분담하기\n",
    "\n",
    "    3. 필요한 것\n",
    "        - 시계드라이버(M1.2,M1.6)\n",
    "        - 버니어캘리퍼스\n",
    "        - 비닐팩\n",
    "        \n",
    "\n",
    "    4. 회의 시간\n",
    "        - 월요일 08:00\n",
    "        - 목요일 08:00\n",
    "\n",
    "\n",
    "'''"
   ]
  }
 ],
 "metadata": {
  "language_info": {
   "name": "python"
  },
  "orig_nbformat": 4
 },
 "nbformat": 4,
 "nbformat_minor": 2
}
