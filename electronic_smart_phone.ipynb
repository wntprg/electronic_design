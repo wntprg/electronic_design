{
 "cells": [
  {
   "cell_type": "code",
   "execution_count": null,
   "metadata": {},
   "outputs": [],
   "source": [
    "'''\n",
    "2022_09_05_월요일\n",
    "    \n",
    "\n",
    "' 우리는 2조 '\n",
    "    \n",
    "    1. 목요일까지 해야될 것\n",
    "        - 제품 정하기\n",
    "            - minimun 3\n",
    "            - maximum 7\n",
    "        - 사야되는 거 가격 알아보기\n",
    "        - 제품을 어떻게 구할지\n",
    "        - 회의 시간 정하기\n",
    "        - pdf_making\n",
    "\n",
    "\n",
    "    2. 장기적 목표\n",
    "        - 기획 하기\n",
    "        - 언제 어디까지 진행할지\n",
    "        - 각자 역할 분담하기\n",
    "\n",
    "    3. 필요한 것\n",
    "        - 시계드라이버(M1.2,M1.6)\n",
    "            - https://www.coupang.com/vp/products/2539703?itemId=11719906&vendorItemId=3017755599&q=%EC%8B%9C%EA%B3%84%EB%93%9C%EB%9D%BC%EC%9D%B4%EB%B2%84&itemsCount=36&searchId=39de0cdb7ac448bf8c96078bf917eecd&rank=1&isAddedCart=\n",
    "            - https://www.coupang.com/vp/products/202661021?itemId=593064564&vendorItemId=4553287545&q=%EC%8B%9C%EA%B3%84%EB%93%9C%EB%9D%BC%EC%9D%B4%EB%B2%84&itemsCount=36&searchId=95e89fffdbec46d8abef65ab22da3eb8&rank=62&isAddedCart=\n",
    "        - 버니어캘리퍼스\n",
    "            - https://www.coupang.com/vp/products/1594196764?vendorItemId=70561610237&sourceType=SDP_ALSO_VIEWED&searchId=c313d9cd6e1441dcbd00cd1e82107cc3&rmdId=c313d9cd6e1441dcbd00cd1e82107cc3&eventLabel=recommendation_widget_pc_sdp_001&platform=web&rmdABTestInfo=22922:B&rmdValue=p1703730036:vt-1.0.0:p1594196764&isAddedCart=\n",
    "            - https://www.coupang.com/vp/products/5123250888?itemId=7004980004&vendorItemId=74297245035&pickType=COU_PICK&q=%EB%B2%84%EB%8B%88%EC%96%B4&itemsCount=36&searchId=1e554e6ec97942a395e486726947740c&rank=1&isAddedCart=\n",
    "        - 비닐팩\n",
    "        \n",
    "\n",
    "    4. 회의 시간\n",
    "        - 월요일 08:00\n",
    "        - 목요일 08:00\n",
    "\n",
    "\n",
    "'''"
   ]
  },
  {
   "cell_type": "code",
   "execution_count": null,
   "metadata": {},
   "outputs": [],
   "source": [
    "'''\n",
    "2022_09_09_금요일\n",
    "    \n",
    "\n",
    "' 우리는 2조 '\n",
    "    \n",
    "    complete\n",
    "        - 버니어 구매 -> 쿠팡 (https://www.coupang.com/vp/products/2173105?itemId=9884524&vendorItemId=3014424997&src=1191000&spec=10999999&addtag=400&ctag=2173105&lptag=CFM09745816&itime=20220909084732&pageType=PRODUCT&pageValue=2173105&wPcid=59338078044314966488539&wRef=&wTime=20220909084732&redirect=landing&style=&settlement=N&isAddedCart=)\n",
    "        - 시계드라이버 구매 -> 쿠팡 (https://www.coupang.com/vp/products/202661021?itemId=593064564&vendorItemId=4553287545&q=%EC%8B%9C%EA%B3%84%EB%93%9C%EB%9D%BC%EC%9D%B4%EB%B2%84&itemsCount=36&searchId=95e89fffdbec46d8abef65ab22da3eb8&rank=62&isAddedCart=)\n",
    "        - 비닐팩 구매 -> 다이소\n",
    "\n",
    "\n",
    "    do_list\n",
    "        - 2022_09_15_meeting\n",
    "        - 핸드폰 분해 영상\n",
    "        - 기획 (시간, 방법, 분배)\n",
    "\n",
    "    need\n",
    "        - 핸드폰 수령\n",
    "        - 버니어 수령\n",
    "        - 시계드라이버 수령\n",
    "        - 비닐팩 수령\n",
    "        - 모든 부품 검수\n",
    "\n",
    "    meeting\n",
    "        - 목요일 08:00\n",
    "\n",
    "'''"
   ]
  },
  {
   "cell_type": "code",
   "execution_count": null,
   "metadata": {},
   "outputs": [],
   "source": [
    "'''\n",
    "\n",
    "2022_09_15_목요일\n",
    "    \n",
    "\n",
    "' 우리는 2조 '\n",
    "    \n",
    "    complete\n",
    "        - 핸드폰 수령, 버니어 수령, 비닐팩 수령, 모든 부품 검수\n",
    "        - 핸드폰 분해 영상 시청\n",
    "        - 기획\n",
    "            - 분해 일주일~이주일\n",
    "            - 모델링 사주일~\n",
    "            - 해석 이주일~\n",
    "            - 보고서 작성 이주일~\n",
    "            - 보완 삼주일~\n",
    "\n",
    "    do_list\n",
    "        - 만나서 분해하기\n",
    "        - 시계드라이버 수령\n",
    "\n",
    "    need\n",
    "        - 강도,경도 좋은 판대기 필요하면 사는 거.\n",
    "        - 분해 맥락 파악\n",
    "\n",
    "    meeting\n",
    "        - 목요일 08:00\n",
    "\n",
    "'''"
   ]
  }
 ],
 "metadata": {
  "kernelspec": {
   "display_name": "Python 3.10.5 64-bit",
   "language": "python",
   "name": "python3"
  },
  "language_info": {
   "codemirror_mode": {
    "name": "ipython",
    "version": 3
   },
   "file_extension": ".py",
   "mimetype": "text/x-python",
   "name": "python",
   "nbconvert_exporter": "python",
   "pygments_lexer": "ipython3",
   "version": "3.10.5"
  },
  "orig_nbformat": 4,
  "vscode": {
   "interpreter": {
    "hash": "56eee1b2c0fc666285e3bd567ee6e1ffd82635af78b0b3b8a441a631077386f9"
   }
  }
 },
 "nbformat": 4,
 "nbformat_minor": 2
}
